{
 "nbformat": 4,
 "nbformat_minor": 2,
 "metadata": {
  "language_info": {
   "name": "python",
   "codemirror_mode": {
    "name": "ipython",
    "version": 3
   },
   "version": "3.7.3-final"
  },
  "orig_nbformat": 2,
  "file_extension": ".py",
  "mimetype": "text/x-python",
  "name": "python",
  "npconvert_exporter": "python",
  "pygments_lexer": "ipython3",
  "version": 3,
  "kernelspec": {
   "name": "python37364bithealthcarevenv1b5586fbb1634f028dced753372d6f89",
   "display_name": "Python 3.7.3 64-bit ('healthcare': venv)"
  }
 },
 "cells": [
  {
   "cell_type": "code",
   "execution_count": 24,
   "metadata": {},
   "outputs": [],
   "source": [
    "import json\n",
    "\n",
    "authors = None\n",
    "with open('patient_info_authors_orig.json') as f:\n",
    "    authors = json.load(f)"
   ]
  },
  {
   "cell_type": "code",
   "execution_count": 5,
   "metadata": {},
   "outputs": [
    {
     "output_type": "execute_result",
     "data": {
      "text/plain": "{'discussions': {'729062': {'created': '2020-02-24T12:21+00:00'},\n  '706144': {'created': '2019-06-30T15:22+00:00'},\n  '727356': {'created': '2020-02-07T10:47+00:00'},\n  '724111': {'created': '2020-01-05T13:42+00:00'},\n  '721511': {'created': '2019-12-08T15:52+00:00'},\n  '720141': {'created': '2019-11-23T15:55+00:00'},\n  '713766': {'created': '2019-09-15T08:35+00:00'},\n  '713767': {'created': '2019-09-15T08:42+00:00'},\n  '717203': {'created': '2019-10-19T11:05+00:00'},\n  '714345': {'created': '2019-09-21T11:54+00:00'},\n  '714348': {'created': '2019-09-21T12:23+00:00'},\n  '712314': {'created': '2019-08-31T10:07+00:00'},\n  '711558': {'created': '2019-08-23T17:59+00:00'},\n  '710242': {'created': '2019-08-10T11:11+00:00'},\n  '709150': {'created': '2019-07-30T15:10+00:00'},\n  '708015': {'created': '2019-07-19T13:57+00:00'},\n  '706532': {'created': '2019-07-04T07:34+00:00'},\n  '705857': {'created': '2019-06-27T12:27+00:00'},\n  '698451': {'created': '2019-04-04T07:31+00:00'},\n  '702920': {'created': '2019-05-27T11:16+00:00'}},\n 'replies': {'likeCounts': [0,\n   0,\n   0,\n   0,\n   0,\n   0,\n   0,\n   1,\n   0,\n   0,\n   0,\n   0,\n   0,\n   0,\n   0,\n   0,\n   0,\n   0,\n   0,\n   1,\n   0,\n   1,\n   1,\n   1,\n   0,\n   0,\n   0,\n   0,\n   0,\n   1,\n   6,\n   0,\n   0,\n   0,\n   0,\n   0,\n   0,\n   0,\n   0,\n   0,\n   0,\n   0,\n   2,\n   0,\n   0,\n   0,\n   1,\n   0,\n   0,\n   0,\n   0,\n   1,\n   2,\n   0,\n   0,\n   0,\n   0,\n   0,\n   0,\n   1,\n   0,\n   3,\n   0,\n   0,\n   0,\n   0,\n   0,\n   0,\n   0,\n   0,\n   0,\n   1,\n   0,\n   0,\n   0,\n   0,\n   0,\n   0,\n   0,\n   0,\n   0,\n   0,\n   1,\n   0,\n   0,\n   0,\n   0,\n   0,\n   0,\n   0,\n   0,\n   0,\n   1,\n   1,\n   0,\n   0,\n   0,\n   0,\n   0,\n   1,\n   0,\n   0,\n   0,\n   0,\n   0,\n   0,\n   0,\n   0,\n   0,\n   0,\n   0,\n   0,\n   0,\n   0,\n   0,\n   0,\n   0,\n   0,\n   0,\n   0,\n   0,\n   0,\n   0,\n   0,\n   0,\n   0,\n   0,\n   0,\n   0,\n   0,\n   0,\n   0,\n   0,\n   0,\n   0,\n   0,\n   0,\n   1,\n   0,\n   0,\n   0,\n   0,\n   0,\n   0,\n   0,\n   0,\n   0,\n   0,\n   0,\n   0,\n   0,\n   0,\n   0,\n   0,\n   0,\n   0,\n   0,\n   0,\n   0,\n   1,\n   1,\n   1,\n   0,\n   1,\n   0]}}"
     },
     "metadata": {},
     "execution_count": 5
    }
   ],
   "source": [
    "authors['libralady13-47158']"
   ]
  },
  {
   "cell_type": "code",
   "execution_count": 25,
   "metadata": {},
   "outputs": [],
   "source": [
    "zero = [0]\n",
    "for a in authors:\n",
    "    likes = authors[a].get('replies', {}).get('likeCounts', [])\n",
    "    authors[a]['numReplies'] = len(likes)\n",
    "    authors[a]['numLikes'] = sum(likes if likes else zero)\n",
    "    authors[a]['meanLikes'] = 0\n",
    "    if authors[a]['numReplies'] > 0:\n",
    "        authors[a]['meanLikes'] = authors[a]['numLikes'] / authors[a]['numReplies']\n",
    "\n",
    "    authors[a].pop('replies', None)\n",
    "    authors[a].pop('discussions', None)"
   ]
  },
  {
   "cell_type": "code",
   "execution_count": 26,
   "metadata": {},
   "outputs": [],
   "source": [
    "# Extract values from authors for analysis\n",
    "numReplies = [authors[a]['numReplies'] for a in authors]\n",
    "numLikes = [authors[a]['numLikes'] for a in authors]\n",
    "meanLikes = [authors[a]['meanLikes'] for a in authors]"
   ]
  },
  {
   "cell_type": "code",
   "execution_count": 7,
   "metadata": {},
   "outputs": [
    {
     "output_type": "execute_result",
     "data": {
      "text/plain": "count    176896.000000\nmean          5.595700\nstd          36.562215\nmin           0.000000\n25%           1.000000\n50%           2.000000\n75%           4.000000\nmax        4432.000000\nName: numReplies, dtype: float64"
     },
     "metadata": {},
     "execution_count": 7
    }
   ],
   "source": [
    "import pandas as pd\n",
    "\n",
    "numRepliesSeries = pd.Series(numReplies, name='numReplies')\n",
    "numRepliesSeries.describe()"
   ]
  },
  {
   "cell_type": "code",
   "execution_count": 29,
   "metadata": {},
   "outputs": [
    {
     "output_type": "execute_result",
     "data": {
      "text/plain": "count    176896.000000\nmean          1.618002\nstd          14.970722\nmin           0.000000\n25%           0.000000\n50%           0.000000\n75%           1.000000\nmax        3062.000000\nName: numLikes, dtype: float64"
     },
     "metadata": {},
     "execution_count": 29
    }
   ],
   "source": [
    "numLikesSeries = pd.Series(numLikes, name='numLikes')\n",
    "numLikesSeries.describe()"
   ]
  },
  {
   "cell_type": "code",
   "execution_count": 9,
   "metadata": {},
   "outputs": [
    {
     "output_type": "execute_result",
     "data": {
      "text/plain": "count    176896.000000\nmean          0.199353\nstd           0.716986\nmin           0.000000\n25%           0.000000\n50%           0.000000\n75%           0.117647\nmax          80.000000\nName: meanLikes, dtype: float64"
     },
     "metadata": {},
     "execution_count": 9
    }
   ],
   "source": [
    "meanLikesSeries = pd.Series(meanLikes, name='meanLikes')\n",
    "meanLikesSeries.describe()"
   ]
  },
  {
   "cell_type": "code",
   "execution_count": 31,
   "metadata": {},
   "outputs": [
    {
     "output_type": "execute_result",
     "data": {
      "text/plain": "count    48082.000000\nmean         5.952706\nstd         28.262455\nmin          1.000000\n25%          1.000000\n50%          2.000000\n75%          4.000000\nmax       3062.000000\nName: numLikesWithAtLeast1, dtype: float64"
     },
     "metadata": {},
     "execution_count": 31
    }
   ],
   "source": [
    "# These are the users with atleast 1 like\n",
    "numLikesWithAtLeast1 = [x for x in numLikes if x > 0]\n",
    "numLikesWithAtLeast1Series = pd.Series(numLikesWithAtLeast1, name='numLikesWithAtLeast1')\n",
    "numLikesWithAtLeast1Series.describe()"
   ]
  },
  {
   "cell_type": "code",
   "execution_count": 32,
   "metadata": {},
   "outputs": [
    {
     "output_type": "execute_result",
     "data": {
      "text/plain": "5.952705794268125"
     },
     "metadata": {},
     "execution_count": 32
    }
   ],
   "source": [
    "meanOfLikesWithAtleast1 = numLikesWithAtLeast1Series.mean()\n",
    "meanOfLikesWithAtleast1"
   ]
  },
  {
   "cell_type": "code",
   "execution_count": 38,
   "metadata": {},
   "outputs": [
    {
     "output_type": "execute_result",
     "data": {
      "text/plain": "9531"
     },
     "metadata": {},
     "execution_count": 38
    }
   ],
   "source": [
    "len([x for x in numLikes if x > meanOfLikesWithAtleast1])"
   ]
  },
  {
   "cell_type": "code",
   "execution_count": 15,
   "metadata": {},
   "outputs": [
    {
     "output_type": "execute_result",
     "data": {
      "text/plain": "count    48082.000000\nmean         0.733430\nstd          1.224580\nmin          0.004348\n25%          0.250000\n50%          0.500000\n75%          1.000000\nmax         80.000000\nName: meanLikesWithAtLeast1Like, dtype: float64"
     },
     "metadata": {},
     "execution_count": 15
    }
   ],
   "source": [
    "# These are the users with atleast 1 like\n",
    "meanLikesWithAtLeast1Like = [x for x in meanLikes if x > 0]\n",
    "meanLikesWithAtLeast1LikeSeries = pd.Series(meanLikesWithAtLeast1Like, name='meanLikesWithAtLeast1Like')\n",
    "meanLikesWithAtLeast1LikeSeries.describe()"
   ]
  },
  {
   "cell_type": "code",
   "execution_count": 16,
   "metadata": {},
   "outputs": [
    {
     "output_type": "execute_result",
     "data": {
      "text/plain": "0.7334295943990864"
     },
     "metadata": {},
     "execution_count": 16
    }
   ],
   "source": [
    "meanOfmeanLikesWithAtLeast1Like = meanLikesWithAtLeast1LikeSeries.mean()\n",
    "meanOfmeanLikesWithAtLeast1Like"
   ]
  },
  {
   "cell_type": "code",
   "execution_count": 20,
   "metadata": {},
   "outputs": [
    {
     "output_type": "execute_result",
     "data": {
      "text/plain": "14586"
     },
     "metadata": {},
     "execution_count": 20
    }
   ],
   "source": [
    "len([x for x in meanLikes if x >= 1])"
   ]
  },
  {
   "cell_type": "code",
   "execution_count": 18,
   "metadata": {},
   "outputs": [
    {
     "output_type": "execute_result",
     "data": {
      "text/plain": "1.2245799901300778"
     },
     "metadata": {},
     "execution_count": 18
    }
   ],
   "source": [
    "meanLikesWithAtLeast1LikeSeries.std()"
   ]
  },
  {
   "cell_type": "code",
   "execution_count": 8,
   "metadata": {},
   "outputs": [],
   "source": [
    "# Mean number of likes for authors with at least 1 like is 5.95. 6 likes seems like a reasonable number for an author to be considered an above average, ie expert\n",
    "# We now mark such authors\n",
    "num_likes_threshold = 6  # meanOfLikesWithAtleast1\n",
    "for a in authors:\n",
    "    authors[a]['weight'] = min(1, authors[a]['numLikes']/num_likes_threshold)"
   ]
  },
  {
   "cell_type": "code",
   "execution_count": 9,
   "metadata": {},
   "outputs": [
    {
     "output_type": "execute_result",
     "data": {
      "text/plain": "{'numReplies': 165,\n 'numLikes': 32,\n 'meanLikes': 0.19393939393939394,\n 'weight': 1}"
     },
     "metadata": {},
     "execution_count": 9
    }
   ],
   "source": [
    "authors['libralady13-47158']"
   ]
  },
  {
   "cell_type": "code",
   "execution_count": 33,
   "metadata": {},
   "outputs": [],
   "source": [
    "# Write the updated authors file back\n",
    "with open('patient_info_authors.json', 'w') as f:\n",
    "    json.dump(authors, f)"
   ]
  },
  {
   "cell_type": "code",
   "execution_count": null,
   "metadata": {},
   "outputs": [],
   "source": [
    "########################################################\n",
    "########################################################\n",
    "############## MEDHELP AUTHORS #########################\n",
    "########################################################\n",
    "########################################################"
   ]
  },
  {
   "cell_type": "code",
   "execution_count": 39,
   "metadata": {},
   "outputs": [],
   "source": [
    "authors = None\n",
    "with open('medhelp_authors_orig.json') as f:\n",
    "    authors = json.load(f)"
   ]
  },
  {
   "cell_type": "code",
   "execution_count": 11,
   "metadata": {},
   "outputs": [
    {
     "output_type": "execute_result",
     "data": {
      "text/plain": "{'author_name': 'allmymarbles', 'is_doctor': False, 'best_answers': 54}"
     },
     "metadata": {},
     "execution_count": 11
    }
   ],
   "source": [
    "authors['757137']"
   ]
  },
  {
   "cell_type": "code",
   "execution_count": 40,
   "metadata": {},
   "outputs": [
    {
     "output_type": "execute_result",
     "data": {
      "text/plain": "count    118406.000000\nmean          0.185050\nstd           7.097646\nmin           0.000000\n25%           0.000000\n50%           0.000000\n75%           0.000000\nmax        1507.000000\nName: numBestAnswers, dtype: float64"
     },
     "metadata": {},
     "execution_count": 40
    }
   ],
   "source": [
    "import pandas as pd\n",
    "\n",
    "numBestAnswers = [authors[a]['best_answers'] for a in authors]\n",
    "numBestAnswersSeries = pd.Series(numBestAnswers, name='numBestAnswers')\n",
    "numBestAnswersSeries.describe()"
   ]
  },
  {
   "cell_type": "code",
   "execution_count": 41,
   "metadata": {},
   "outputs": [
    {
     "output_type": "execute_result",
     "data": {
      "text/plain": "count    2449.000000\nmean        8.946917\nstd        48.561232\nmin         1.000000\n25%         1.000000\n50%         1.000000\n75%         4.000000\nmax      1507.000000\nName: numBestAnswers, dtype: float64"
     },
     "metadata": {},
     "execution_count": 41
    }
   ],
   "source": [
    "# These are the users with atleast 1 like\n",
    "numBestAnswersWithAtLeast1 = [x for x in numBestAnswers if x > 0]\n",
    "numBestAnswersWithAtLeast1Series = pd.Series(numBestAnswersWithAtLeast1, name='numBestAnswers')\n",
    "numBestAnswersWithAtLeast1Series.describe()"
   ]
  },
  {
   "cell_type": "code",
   "execution_count": 42,
   "metadata": {},
   "outputs": [
    {
     "output_type": "execute_result",
     "data": {
      "text/plain": "527"
     },
     "metadata": {},
     "execution_count": 42
    }
   ],
   "source": [
    "len([x for x in numBestAnswers if x >= 5])"
   ]
  },
  {
   "cell_type": "code",
   "execution_count": 43,
   "metadata": {},
   "outputs": [],
   "source": [
    "# 5 best answers seems like a good measure for an expert\n",
    "num_best_answers_threshold = 5\n",
    "for a in authors:\n",
    "    authors[a]['weight'] = min(1, authors[a]['best_answers']/num_best_answers_threshold)"
   ]
  },
  {
   "cell_type": "code",
   "execution_count": 45,
   "metadata": {},
   "outputs": [
    {
     "output_type": "execute_result",
     "data": {
      "text/plain": "{'author_name': 'allmymarbles',\n 'is_doctor': False,\n 'best_answers': 54,\n 'weight': 1}"
     },
     "metadata": {},
     "execution_count": 45
    }
   ],
   "source": [
    "authors['757137']"
   ]
  },
  {
   "cell_type": "code",
   "execution_count": 44,
   "metadata": {},
   "outputs": [],
   "source": [
    "# Write the updated authors file back\n",
    "with open('medhelp_authors.json', 'w') as f:\n",
    "    json.dump(authors, f)"
   ]
  }
 ]
}